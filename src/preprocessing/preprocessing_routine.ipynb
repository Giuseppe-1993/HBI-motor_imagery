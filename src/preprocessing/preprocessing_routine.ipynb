{
 "cells": [
  {
   "cell_type": "code",
   "execution_count": 1,
   "metadata": {},
   "outputs": [],
   "source": [
    "%matplotlib qt\n",
    "import mne\n",
    "import numpy as np\n",
    "import os\n",
    "from os.path import join\n",
    "import matplotlib.pyplot as plt"
   ]
  },
  {
   "cell_type": "markdown",
   "metadata": {},
   "source": [
    "# Loading "
   ]
  },
  {
   "cell_type": "code",
   "execution_count": 23,
   "metadata": {},
   "outputs": [
    {
     "name": "stdout",
     "output_type": "stream",
     "text": [
      "Extracting EDF parameters from /home/oem/Documents/HBI-motor_imagery/HBI-motor_imagery/src/preprocessing/Data/Raw/02/BHIe_02_motoreal.bdf...\n",
      "BDF file detected\n",
      "Setting channel info structure...\n",
      "Creating raw.info structure...\n",
      "Reading 0 ... 444415  =      0.000 ...   433.999 secs...\n"
     ]
    }
   ],
   "source": [
    "participant_id = '02'\n",
    "motor_task = 'motoreal'\n",
    "file_name = f\"Data/Raw/{participant_id}/BHIe_{participant_id}_{motor_task}.bdf\"\n",
    "\n",
    "# Load the raw data\n",
    "raw = mne.io.read_raw_bdf(file_name, preload=True)"
   ]
  },
  {
   "cell_type": "markdown",
   "metadata": {},
   "source": [
    "# Processing\n",
    "\n",
    "1. Events\n",
    "- motoreal:     Left = 110 / Right = 120\n",
    "- motorimagery: Left = 210 / Right = 220"
   ]
  },
  {
   "cell_type": "code",
   "execution_count": 24,
   "metadata": {},
   "outputs": [],
   "source": [
    "from preprocessing.utils import extract_emg_data, extract_ecg_data"
   ]
  },
  {
   "cell_type": "code",
   "execution_count": 25,
   "metadata": {},
   "outputs": [
    {
     "name": "stdout",
     "output_type": "stream",
     "text": [
      "103 events found\n",
      "Event IDs: [ 61441  61550  61560 126976]\n",
      "EEG channel type selected for re-referencing\n",
      "Applying a custom ('EEG',) reference.\n"
     ]
    },
    {
     "data": {
      "text/html": [
       "<table class=\"table table-hover table-striped table-sm table-responsive small\">\n",
       "    <tr>\n",
       "        <th>Measurement date</th>\n",
       "        \n",
       "        <td>November 08, 2021  16:40:07 GMT</td>\n",
       "        \n",
       "    </tr>\n",
       "    <tr>\n",
       "        <th>Experimenter</th>\n",
       "        \n",
       "        <td>Unknown</td>\n",
       "        \n",
       "    </tr>\n",
       "        <th>Participant</th>\n",
       "        \n",
       "        <td>Unknown</td>\n",
       "        \n",
       "    </tr>\n",
       "    <tr>\n",
       "        <th>Digitized points</th>\n",
       "        \n",
       "        <td>Not available</td>\n",
       "        \n",
       "    </tr>\n",
       "    <tr>\n",
       "        <th>Good channels</th>\n",
       "        <td>64 EEG</td>\n",
       "    </tr>\n",
       "    <tr>\n",
       "        <th>Bad channels</th>\n",
       "        <td>None</td>\n",
       "    </tr>\n",
       "    <tr>\n",
       "        <th>EOG channels</th>\n",
       "        <td>Not available</td>\n",
       "    </tr>\n",
       "    <tr>\n",
       "        <th>ECG channels</th>\n",
       "        <td>Not available</td>\n",
       "    \n",
       "    <tr>\n",
       "        <th>Sampling frequency</th>\n",
       "        <td>1024.00 Hz</td>\n",
       "    </tr>\n",
       "    \n",
       "    \n",
       "    <tr>\n",
       "        <th>Highpass</th>\n",
       "        <td>0.00 Hz</td>\n",
       "    </tr>\n",
       "    \n",
       "    \n",
       "    <tr>\n",
       "        <th>Lowpass</th>\n",
       "        <td>208.00 Hz</td>\n",
       "    </tr>\n",
       "    \n",
       "    \n",
       "    \n",
       "    <tr>\n",
       "        <th>Filenames</th>\n",
       "        <td>BHIe_02_motoreal.bdf</td>\n",
       "    </tr>\n",
       "    \n",
       "    <tr>\n",
       "        <th>Duration</th>\n",
       "        <td>00:07:14 (HH:MM:SS)</td>\n",
       "    </tr>\n",
       "</table>"
      ],
      "text/plain": [
       "<RawEDF | BHIe_02_motoreal.bdf, 64 x 444416 (434.0 s), ~217.1 MB, data loaded>"
      ]
     },
     "execution_count": 25,
     "metadata": {},
     "output_type": "execute_result"
    }
   ],
   "source": [
    "# 1. Get the events\n",
    "events = mne.find_events(raw, initial_event=True) # Store events\n",
    "events[:, 2] &= (2**9-1) # Modify event data\n",
    "\n",
    "# 2. Set the EEG reference channels\n",
    "mne.set_eeg_reference(inst=raw, ref_channels=[\"EXG1\", \"EXG2\"])\n",
    "\n",
    "# 3. Get external channels\n",
    "channel_list = raw.info['ch_names'][:-1] # The full list of channels\n",
    "ext_channels = channel_list[-8:] # The external channels (EXG1-8)\n",
    "status = raw.info['ch_names'][-1] # Can be deleted after the events have been extracted\n",
    "\n",
    "# 4. Extract the datasets (EMG, ECG)\n",
    "if participant_id != '23':\n",
    "    emg_data = extract_emg_data(raw_dataset=raw)\n",
    "else:\n",
    "    emg_data = extract_emg_data(raw_dataset=raw, inverse=True)\n",
    "\n",
    "\n",
    "# ECG channels have been inverted in participant 27\n",
    "if (participant_id != '27'):\n",
    "    ecg_data = extract_ecg_data(raw_dataset=raw)\n",
    "else:\n",
    "    ecg_data = extract_ecg_data(raw_dataset=raw, inverse=True)\n",
    "\n",
    "\n",
    "# 5. Extract only the EEG data (drop ext. channels)\n",
    "eeg_data = raw.drop_channels(ext_channels) # not including EXG1-EXG2\n",
    "eeg_data.drop_channels(status)"
   ]
  },
  {
   "cell_type": "markdown",
   "metadata": {},
   "source": [
    "## Preprocess raw data \n"
   ]
  },
  {
   "cell_type": "code",
   "execution_count": 26,
   "metadata": {},
   "outputs": [],
   "source": [
    "from preprocessing.utils import smooth_emg_signal, create_new_raw_dataset"
   ]
  },
  {
   "cell_type": "code",
   "execution_count": 27,
   "metadata": {},
   "outputs": [],
   "source": [
    "sfreq = raw.info['sfreq']"
   ]
  },
  {
   "cell_type": "code",
   "execution_count": 28,
   "metadata": {},
   "outputs": [
    {
     "name": "stdout",
     "output_type": "stream",
     "text": [
      "Setting up band-pass filter from 10 - 5e+02 Hz\n",
      "\n",
      "FIR filter parameters\n",
      "---------------------\n",
      "Designing a one-pass, zero-phase, non-causal bandpass filter:\n",
      "- Windowed time-domain design (firwin) method\n",
      "- Hamming window with 0.0194 passband ripple and 53 dB stopband attenuation\n",
      "- Lower passband edge: 10.00\n",
      "- Lower transition bandwidth: 2.50 Hz (-6 dB cutoff frequency: 8.75 Hz)\n",
      "- Upper passband edge: 500.00 Hz\n",
      "- Upper transition bandwidth: 12.00 Hz (-6 dB cutoff frequency: 506.00 Hz)\n",
      "- Filter length: 1353 samples (1.321 sec)\n",
      "\n"
     ]
    },
    {
     "name": "stderr",
     "output_type": "stream",
     "text": [
      "[Parallel(n_jobs=1)]: Using backend SequentialBackend with 1 concurrent workers.\n",
      "[Parallel(n_jobs=1)]: Done   1 out of   1 | elapsed:    0.0s remaining:    0.0s\n",
      "[Parallel(n_jobs=1)]: Done   2 out of   2 | elapsed:    0.0s remaining:    0.0s\n",
      "[Parallel(n_jobs=1)]: Done   2 out of   2 | elapsed:    0.0s finished\n"
     ]
    },
    {
     "name": "stdout",
     "output_type": "stream",
     "text": [
      "Filtering raw data in 1 contiguous segment\n",
      "Setting up band-pass filter from 1 - 40 Hz\n",
      "\n",
      "FIR filter parameters\n",
      "---------------------\n",
      "Designing a one-pass, zero-phase, non-causal bandpass filter:\n",
      "- Windowed time-domain design (firwin) method\n",
      "- Hamming window with 0.0194 passband ripple and 53 dB stopband attenuation\n",
      "- Lower passband edge: 1.00\n",
      "- Lower transition bandwidth: 1.00 Hz (-6 dB cutoff frequency: 0.50 Hz)\n",
      "- Upper passband edge: 40.00 Hz\n",
      "- Upper transition bandwidth: 10.00 Hz (-6 dB cutoff frequency: 45.00 Hz)\n",
      "- Filter length: 3381 samples (3.302 sec)\n",
      "\n"
     ]
    },
    {
     "name": "stderr",
     "output_type": "stream",
     "text": [
      "[Parallel(n_jobs=1)]: Using backend SequentialBackend with 1 concurrent workers.\n",
      "[Parallel(n_jobs=1)]: Done   1 out of   1 | elapsed:    0.0s remaining:    0.0s\n",
      "[Parallel(n_jobs=1)]: Done   2 out of   2 | elapsed:    0.0s remaining:    0.0s\n",
      "[Parallel(n_jobs=1)]: Done   3 out of   3 | elapsed:    0.1s remaining:    0.0s\n",
      "[Parallel(n_jobs=1)]: Done   4 out of   4 | elapsed:    0.1s remaining:    0.0s\n"
     ]
    },
    {
     "name": "stdout",
     "output_type": "stream",
     "text": [
      "Setting up band-pass filter from 0.2 - 40 Hz\n",
      "\n",
      "FIR filter parameters\n",
      "---------------------\n",
      "Designing a one-pass, zero-phase, non-causal bandpass filter:\n",
      "- Windowed time-domain design (firwin) method\n",
      "- Hamming window with 0.0194 passband ripple and 53 dB stopband attenuation\n",
      "- Lower passband edge: 0.20\n",
      "- Lower transition bandwidth: 0.20 Hz (-6 dB cutoff frequency: 0.10 Hz)\n",
      "- Upper passband edge: 40.00 Hz\n",
      "- Upper transition bandwidth: 10.00 Hz (-6 dB cutoff frequency: 45.00 Hz)\n",
      "- Filter length: 16897 samples (16.501 sec)\n",
      "\n"
     ]
    },
    {
     "name": "stderr",
     "output_type": "stream",
     "text": [
      "[Parallel(n_jobs=1)]: Done  64 out of  64 | elapsed:    1.2s finished\n",
      "[Parallel(n_jobs=1)]: Using backend SequentialBackend with 1 concurrent workers.\n",
      "[Parallel(n_jobs=1)]: Done   1 out of   1 | elapsed:    0.0s remaining:    0.0s\n",
      "[Parallel(n_jobs=1)]: Done   1 out of   1 | elapsed:    0.0s finished\n"
     ]
    },
    {
     "name": "stdout",
     "output_type": "stream",
     "text": [
      "Creating RawArray with float64 data, n_channels=67, n_times=444416\n",
      "    Range : 0 ... 444415 =      0.000 ...   433.999 secs\n",
      "Ready.\n"
     ]
    }
   ],
   "source": [
    "# EMG DATA (band-pass filter, full-wave rectification, and smooth signal with RMS)\n",
    "emg_data = mne.filter.filter_data(data=emg_data, sfreq=sfreq, l_freq=10., h_freq=500.)\n",
    "emg_data = np.abs(emg_data)\n",
    "emg_data = smooth_emg_signal(emg_data=emg_data, \n",
    "                            window_size=int(sfreq/20))\n",
    "\n",
    "\n",
    "# EEG DATA: Band-pass filter\n",
    "eeg_data = eeg_data.filter(1., 40., picks=('eeg'), fir_design='firwin')\n",
    "\n",
    "# ECG DATA: Remove DC offset and Baseline Wander\n",
    "ecg_data = mne.filter.filter_data(data=ecg_data, sfreq=sfreq, l_freq=0.2, h_freq=40.)\n",
    "\n",
    "# Combine the data into a new Raw object\n",
    "raw_dataset = create_new_raw_dataset(eeg_data=eeg_data, ecg_data=ecg_data, emg_data=emg_data)\n"
   ]
  },
  {
   "cell_type": "code",
   "execution_count": null,
   "metadata": {},
   "outputs": [],
   "source": []
  },
  {
   "cell_type": "code",
   "execution_count": 17,
   "metadata": {},
   "outputs": [],
   "source": [
    "\n",
    "\n",
    "# # Generate and apply BioSemi64 montage\n",
    "# biosemi_montage = mne.channels.make_standard_montage('biosemi64') # or should we use the standard 10-20?\n",
    "# raw.set_montage(biosemi_montage)"
   ]
  },
  {
   "cell_type": "code",
   "execution_count": null,
   "metadata": {},
   "outputs": [],
   "source": []
  }
 ],
 "metadata": {
  "kernelspec": {
   "display_name": "Python 3.9.7 ('PhD')",
   "language": "python",
   "name": "python3"
  },
  "language_info": {
   "codemirror_mode": {
    "name": "ipython",
    "version": 3
   },
   "file_extension": ".py",
   "mimetype": "text/x-python",
   "name": "python",
   "nbconvert_exporter": "python",
   "pygments_lexer": "ipython3",
   "version": "3.9.7"
  },
  "orig_nbformat": 4,
  "vscode": {
   "interpreter": {
    "hash": "faaf0e7bf9a379e9bda35f73f64ea7f91eb94ee6c7d1154a01c68afd2a70e8f3"
   }
  }
 },
 "nbformat": 4,
 "nbformat_minor": 2
}
